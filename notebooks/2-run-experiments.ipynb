{
 "cells": [
  {
   "cell_type": "code",
   "execution_count": 1,
   "metadata": {},
   "outputs": [],
   "source": [
    "import numpy as np\n",
    "import pandas as pd\n",
    "import matplotlib.pyplot as plt\n",
    "%matplotlib inline\n",
    "\n",
    "import seaborn as sns"
   ]
  },
  {
   "cell_type": "code",
   "execution_count": 2,
   "metadata": {},
   "outputs": [],
   "source": [
    "EXE_PATH = {\n",
    "    'plasma-local': '../bin/p-local.o',\n",
    "    'plasma-remote': '../bin/p-remote.o',\n",
    "    'zmq-local': '../bin/zmq-local.o',\n",
    "    'plasma-fine-grained': '../bin/p-fine.o'\n",
    "}"
   ]
  },
  {
   "cell_type": "code",
   "execution_count": 3,
   "metadata": {},
   "outputs": [],
   "source": [
    "PY_PATH = {\n",
    "    'plasma-read': '../python/plasma-read.py',\n",
    "    'noop': '../python/noop.py',\n",
    "    'zmq-read': '../python/zmq-read.py'\n",
    "}"
   ]
  },
  {
   "cell_type": "code",
   "execution_count": 4,
   "metadata": {},
   "outputs": [],
   "source": [
    "PLASMA_CMD = ['plasma_store', '-m', '4000000000', '-s', '/tmp/plasma']"
   ]
  },
  {
   "cell_type": "code",
   "execution_count": 5,
   "metadata": {},
   "outputs": [],
   "source": [
    "RESULT_PATH = '../results'"
   ]
  },
  {
   "cell_type": "code",
   "execution_count": 6,
   "metadata": {},
   "outputs": [],
   "source": [
    "from subprocess import Popen, PIPE\n",
    "import os\n",
    "import time"
   ]
  },
  {
   "cell_type": "code",
   "execution_count": 7,
   "metadata": {},
   "outputs": [],
   "source": [
    "exprs = [\n",
    "    ('plasma-local', 'noop', 'plasma-noop.txt'),\n",
    "    ('plasma-local', 'plasma-read', 'plasma-read.txt'),\n",
    "    ('plasma-fine-grained', 'noop', 'plasma-noop.csv'),\n",
    "    ('plasma-fine-grained', 'plasma-read', 'plasma-read.csv'),\n",
    "    ('zmq-local', 'noop', 'zmq-noop.txt'),\n",
    "    ('zmq-local', 'zmq-read', 'zmq-read.txt')\n",
    "]"
   ]
  },
  {
   "cell_type": "code",
   "execution_count": 8,
   "metadata": {},
   "outputs": [],
   "source": [
    "def run_experiment(cpp, python, result):\n",
    "    cpp_cmd = [EXE_PATH[cpp]]\n",
    "    python_cmd = ['python', PY_PATH[python]]\n",
    "    \n",
    "    plasma_proc = Popen(PLASMA_CMD)\n",
    "    python_proc = Popen(python_cmd)\n",
    "    cpp_proc = Popen(cpp_cmd, \n",
    "                     stdout=open(os.path.join(RESULT_PATH, result),'w'), \n",
    "                     stderr=open(os.path.join(RESULT_PATH, result+'.progress'), 'w'))\n",
    "    time.sleep(5)\n",
    "    \n",
    "    cpp_proc.communicate()\n",
    "    plasma_proc.terminate()\n",
    "    if not python_proc.poll():\n",
    "        python_proc.terminate()\n"
   ]
  },
  {
   "cell_type": "code",
   "execution_count": 9,
   "metadata": {},
   "outputs": [],
   "source": [
    "from tqdm import tqdm"
   ]
  },
  {
   "cell_type": "code",
   "execution_count": 10,
   "metadata": {},
   "outputs": [
    {
     "name": "stderr",
     "output_type": "stream",
     "text": [
      "100%|██████████| 6/6 [05:22<00:00, 53.74s/it]\n"
     ]
    }
   ],
   "source": [
    "for expr in tqdm(exprs):\n",
    "    run_experiment(*expr)"
   ]
  },
  {
   "cell_type": "code",
   "execution_count": 16,
   "metadata": {},
   "outputs": [],
   "source": [
    "re_run = [\n",
    "    ('plasma-fine-grained', 'noop', 'plasma-noop.csv'),\n",
    "]"
   ]
  },
  {
   "cell_type": "code",
   "execution_count": 17,
   "metadata": {},
   "outputs": [
    {
     "name": "stderr",
     "output_type": "stream",
     "text": [
      "100%|██████████| 1/1 [01:04<00:00, 64.16s/it]\n"
     ]
    }
   ],
   "source": [
    "for expr in tqdm(re_run):\n",
    "    run_experiment(*expr)"
   ]
  },
  {
   "cell_type": "code",
   "execution_count": null,
   "metadata": {},
   "outputs": [],
   "source": []
  }
 ],
 "metadata": {
  "kernelspec": {
   "display_name": "Python 2",
   "language": "python",
   "name": "python2"
  },
  "language_info": {
   "codemirror_mode": {
    "name": "ipython",
    "version": 2
   },
   "file_extension": ".py",
   "mimetype": "text/x-python",
   "name": "python",
   "nbconvert_exporter": "python",
   "pygments_lexer": "ipython2",
   "version": "2.7.14"
  }
 },
 "nbformat": 4,
 "nbformat_minor": 2
}
