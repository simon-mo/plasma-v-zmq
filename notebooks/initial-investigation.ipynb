{
 "cells": [
  {
   "cell_type": "markdown",
   "metadata": {},
   "source": [
    "# Plasma Communication Overhead Investigation"
   ]
  },
  {
   "cell_type": "markdown",
   "metadata": {},
   "source": [
    "In this notebook we investigate the overhead of writing tensors to plasma and reading it, comparing it to just sending the image to zmq. "
   ]
  },
  {
   "cell_type": "code",
   "execution_count": null,
   "metadata": {},
   "outputs": [],
   "source": [
    "import numpy as np\n",
    "import pandas as pd\n",
    "import matplotlib.pyplot as plt\n",
    "%matplotlib inline\n",
    "\n",
    "import seaborn as sns"
   ]
  },
  {
   "cell_type": "code",
   "execution_count": null,
   "metadata": {},
   "outputs": [],
   "source": [
    "import glob"
   ]
  },
  {
   "cell_type": "code",
   "execution_count": null,
   "metadata": {},
   "outputs": [],
   "source": [
    "files = glob.glob(\"../results/*.txt\")\n",
    "files = [p for p in files if 'hacky' not in p] # get rid of the hacky plasma approach"
   ]
  },
  {
   "cell_type": "code",
   "execution_count": null,
   "metadata": {},
   "outputs": [],
   "source": [
    "arrs = {\n",
    "    path.split('/')[1].split('.')[0]: np.loadtxt(path) for path in files\n",
    "}\n",
    "arrs"
   ]
  },
  {
   "cell_type": "code",
   "execution_count": null,
   "metadata": {},
   "outputs": [],
   "source": [
    "plt.figure(figsize=(12,8))\n",
    "for name, arr in arrs.items():\n",
    "#     if 'noop' not in name:\n",
    "    plt.scatter(np.arange(2000), arr, label=name, marker='.')\n",
    "plt.legend()\n",
    "# plt.ylim(0, 20000)"
   ]
  },
  {
   "cell_type": "code",
   "execution_count": null,
   "metadata": {},
   "outputs": [],
   "source": [
    "arr = arrs['zmq']"
   ]
  },
  {
   "cell_type": "code",
   "execution_count": null,
   "metadata": {},
   "outputs": [],
   "source": [
    "plt.figure(figsize=(16,8))\n",
    "for name in arrs.keys():\n",
    "    sns.distplot(arrs[name], bins=np.linspace(0, 5000, num=150), label=name, kde=False)\n",
    "plt.xlim(0, 5000)\n",
    "plt.legend()\n",
    "plt.ylabel(\"Occurance Count\")\n",
    "plt.xlabel(\"Duration (us)\")\n",
    "plt.title(\"Distribution of durations (< 5000 us)\")"
   ]
  },
  {
   "cell_type": "code",
   "execution_count": null,
   "metadata": {},
   "outputs": [],
   "source": [
    "3*224*224"
   ]
  },
  {
   "cell_type": "markdown",
   "metadata": {},
   "source": [
    "## Fine-grained Plasma Performance Investigation"
   ]
  },
  {
   "cell_type": "code",
   "execution_count": null,
   "metadata": {},
   "outputs": [],
   "source": [
    "ts = pd.read_csv('results/hash_turned_off.csv', header=None).drop(7, axis=1)"
   ]
  },
  {
   "cell_type": "code",
   "execution_count": null,
   "metadata": {},
   "outputs": [],
   "source": [
    "ts = pd.concat([pd.Series(np.zeros(2000).astype(int), name='start'), ts], axis=1)"
   ]
  },
  {
   "cell_type": "code",
   "execution_count": null,
   "metadata": {},
   "outputs": [],
   "source": [
    "ts_durations = ts.diff(axis=1).drop('start',axis=1)"
   ]
  },
  {
   "cell_type": "code",
   "execution_count": null,
   "metadata": {},
   "outputs": [],
   "source": [
    "timestamp = \\\n",
    "[\n",
    "  'create_tensor', 'get_metadata', 'create_plasma_obj',\n",
    "  'write_tensor', 'seal_plasma_obj','send_obj', 'recv_ack'\n",
    "]"
   ]
  },
  {
   "cell_type": "code",
   "execution_count": null,
   "metadata": {},
   "outputs": [],
   "source": [
    "plt.figure(figsize=(16,8))\n",
    "\n",
    "for name, col in zip(timestamp, ts_durations.columns):\n",
    "    sns.distplot(ts_durations[col], bins=np.linspace(0,2000,num=150), label=name)\n",
    "plt.xlim(0, 2000)\n",
    "plt.legend()"
   ]
  },
  {
   "cell_type": "markdown",
   "metadata": {},
   "source": [
    "From Phillip:\n",
    "- Hasing is there to detect non-determinism if a task fails and is re-run, but you probably don't need it.\n",
    "- If you don't need that feature, we can put in a flag to deactivate it"
   ]
  }
 ],
 "metadata": {
  "kernelspec": {
   "display_name": "Python 3",
   "language": "python",
   "name": "python3"
  },
  "language_info": {
   "codemirror_mode": {
    "name": "ipython",
    "version": 3
   },
   "file_extension": ".py",
   "mimetype": "text/x-python",
   "name": "python",
   "nbconvert_exporter": "python",
   "pygments_lexer": "ipython3",
   "version": "3.6.5"
  }
 },
 "nbformat": 4,
 "nbformat_minor": 2
}
